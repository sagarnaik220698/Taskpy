{
 "cells": [
  {
   "cell_type": "code",
   "execution_count": 2,
   "metadata": {},
   "outputs": [
    {
     "name": "stdout",
     "output_type": "stream",
     "text": [
      "10\n",
      "9\n",
      "8\n",
      "7\n",
      "6\n",
      "5\n",
      "4\n",
      "3\n",
      "2\n",
      "1\n"
     ]
    }
   ],
   "source": [
    "# Using while loop print from 10 to 1\n",
    "count = 10\n",
    "while (count > 0 ):\n",
    "    print(count)\n",
    "    count -=1"
   ]
  },
  {
   "cell_type": "code",
   "execution_count": 3,
   "metadata": {},
   "outputs": [
    {
     "name": "stdout",
     "output_type": "stream",
     "text": [
      "10\n",
      "9\n",
      "8\n",
      "7\n",
      "6\n",
      "5\n",
      "4\n",
      "3\n",
      "2\n",
      "1\n"
     ]
    }
   ],
   "source": [
    "counter = 10 \n",
    "while (counter > 0):\n",
    "    print(counter)\n",
    "    counter = counter -1"
   ]
  },
  {
   "cell_type": "markdown",
   "metadata": {},
   "source": [
    "2 Try using for loop to loop tuples, sets and dictioneris"
   ]
  },
  {
   "cell_type": "code",
   "execution_count": 4,
   "metadata": {},
   "outputs": [
    {
     "name": "stdout",
     "output_type": "stream",
     "text": [
      "1\n",
      "2\n",
      "3\n",
      "4\n",
      "5\n"
     ]
    }
   ],
   "source": [
    "#Loop over tuples\n",
    "tuple = (1,2,3,4,5)\n",
    "for item in tuple:\n",
    "    print(item)"
   ]
  },
  {
   "cell_type": "code",
   "execution_count": 6,
   "metadata": {},
   "outputs": [
    {
     "name": "stdout",
     "output_type": "stream",
     "text": [
      "False\n",
      "5\n",
      "6\n",
      "7\n",
      "8\n",
      "heloo\n"
     ]
    }
   ],
   "source": [
    "#loop over set \n",
    "set = {5,6,7,8,False,\"heloo\"}\n",
    "for item in set :\n",
    "    print(item)"
   ]
  },
  {
   "cell_type": "code",
   "execution_count": 11,
   "metadata": {},
   "outputs": [
    {
     "name": "stdout",
     "output_type": "stream",
     "text": [
      "Brand\n",
      "model\n",
      "year\n",
      "cost\n",
      "('Brand', 'Honda')\n",
      "('model', 'drem')\n",
      "('year', '2021')\n",
      "('cost', 100000)\n"
     ]
    }
   ],
   "source": [
    "#loop over dictionry\n",
    "dict1 = {\n",
    "    \"Brand\":\"Honda\",\n",
    "    \"model\":\"drem\",\n",
    "    \"year\":\"2021\",\n",
    "    \"cost\":100000\n",
    "}\n",
    "dict1\n",
    "\n",
    "for key in dict1 .keys():\n",
    "    print(key)\n",
    "for item in dict1 .items():\n",
    "    print(item)\n"
   ]
  },
  {
   "cell_type": "code",
   "execution_count": null,
   "metadata": {},
   "outputs": [],
   "source": []
  }
 ],
 "metadata": {
  "kernelspec": {
   "display_name": "Python 3",
   "language": "python",
   "name": "python3"
  },
  "language_info": {
   "codemirror_mode": {
    "name": "ipython",
    "version": 3
   },
   "file_extension": ".py",
   "mimetype": "text/x-python",
   "name": "python",
   "nbconvert_exporter": "python",
   "pygments_lexer": "ipython3",
   "version": "3.8.5"
  }
 },
 "nbformat": 4,
 "nbformat_minor": 4
}
